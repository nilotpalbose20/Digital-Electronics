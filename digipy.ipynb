{
  "cells": [
    {
      "cell_type": "markdown",
      "metadata": {
        "id": "view-in-github",
        "colab_type": "text"
      },
      "source": [
        "<a href=\"https://colab.research.google.com/github/nilotpalbose20/Digital-Electronics/blob/main/digipy.ipynb\" target=\"_parent\"><img src=\"https://colab.research.google.com/assets/colab-badge.svg\" alt=\"Open In Colab\"/></a>"
      ]
    },
    {
      "cell_type": "markdown",
      "metadata": {
        "id": "wZ2uZ-SVdnSg"
      },
      "source": [
        "# Author: Nilotpal Bose\n",
        "#### Email: nilotpalbose20@gmail.com\n",
        "#### Location: Kolkata, India"
      ]
    },
    {
      "cell_type": "markdown",
      "metadata": {
        "id": "BitQaV9PdnSj"
      },
      "source": [
        "## Import"
      ]
    },
    {
      "cell_type": "code",
      "execution_count": null,
      "metadata": {
        "id": "THsEdTpVdnSk"
      },
      "outputs": [],
      "source": [
        "from time import sleep"
      ]
    },
    {
      "cell_type": "markdown",
      "metadata": {
        "id": "ZLnr7NgSdnSl"
      },
      "source": [
        "## 2 Input NAND Gate\n",
        "Input: a, b"
      ]
    },
    {
      "cell_type": "code",
      "execution_count": null,
      "metadata": {
        "id": "zd1t-5iRdnSl",
        "outputId": "5b0303d3-e216-481b-e06c-36fb1c11a69e"
      },
      "outputs": [
        {
          "data": {
            "text/plain": [
              "1"
            ]
          },
          "execution_count": 2,
          "metadata": {},
          "output_type": "execute_result"
        }
      ],
      "source": [
        "def nand2(a,b):\n",
        "    if a==0:\n",
        "        if b==0:\n",
        "            return 1\n",
        "        else:\n",
        "            return 1\n",
        "    else:\n",
        "        if b==0:\n",
        "            return 1\n",
        "        else:\n",
        "            return 0\n",
        "\n",
        "nand2(0,0)"
      ]
    },
    {
      "cell_type": "markdown",
      "metadata": {
        "id": "WJIoxEwMdnSm"
      },
      "source": [
        "## 2 Input NOT Gate\n",
        "Input: a"
      ]
    },
    {
      "cell_type": "code",
      "execution_count": null,
      "metadata": {
        "id": "nmN5xK4PdnSm",
        "outputId": "8f1efbab-cca1-4f1f-ffa7-0531e97ca9a1"
      },
      "outputs": [
        {
          "data": {
            "text/plain": [
              "1"
            ]
          },
          "execution_count": 3,
          "metadata": {},
          "output_type": "execute_result"
        }
      ],
      "source": [
        "def not1(a):\n",
        "    return nand2(a,a)\n",
        "\n",
        "not1(0)"
      ]
    },
    {
      "cell_type": "markdown",
      "metadata": {
        "id": "Q6SI8sMQdnSm"
      },
      "source": [
        "## 2 Input NOR Gate\n",
        "Input: a, b"
      ]
    },
    {
      "cell_type": "code",
      "execution_count": null,
      "metadata": {
        "id": "dCiG7-5bdnSn",
        "outputId": "0180366a-acbf-4b53-ec50-f9f33bfe8d31"
      },
      "outputs": [
        {
          "data": {
            "text/plain": [
              "0"
            ]
          },
          "execution_count": 4,
          "metadata": {},
          "output_type": "execute_result"
        }
      ],
      "source": [
        "def nor2(a,b):\n",
        "    return not1(a or b)\n",
        "\n",
        "nor2(0,1)"
      ]
    },
    {
      "cell_type": "markdown",
      "metadata": {
        "id": "hOEU-T3ydnSn"
      },
      "source": [
        "## 2 Input AND Gate\n",
        "Input: a, b"
      ]
    },
    {
      "cell_type": "code",
      "execution_count": null,
      "metadata": {
        "id": "y9fFAodQdnSn",
        "outputId": "c12ee052-cee8-4105-92b8-ba6d38549dd3"
      },
      "outputs": [
        {
          "data": {
            "text/plain": [
              "0"
            ]
          },
          "execution_count": 5,
          "metadata": {},
          "output_type": "execute_result"
        }
      ],
      "source": [
        "def and2(a,b):\n",
        "    return not1(nand2(a,b))\n",
        "\n",
        "and2(0,1)"
      ]
    },
    {
      "cell_type": "markdown",
      "metadata": {
        "id": "VOzG2UwjdnSo"
      },
      "source": [
        "## 2 Input OR Gate\n",
        "Input: a, b"
      ]
    },
    {
      "cell_type": "code",
      "execution_count": null,
      "metadata": {
        "id": "Uk9yAbn2dnSo",
        "outputId": "4c8a3363-8516-4d6c-b8b4-765e44046329"
      },
      "outputs": [
        {
          "data": {
            "text/plain": [
              "1"
            ]
          },
          "execution_count": 6,
          "metadata": {},
          "output_type": "execute_result"
        }
      ],
      "source": [
        "def or2(a,b):\n",
        "    return not1(nor2(a,b))\n",
        "\n",
        "or2(0,1)"
      ]
    },
    {
      "cell_type": "markdown",
      "metadata": {
        "id": "BvLKaFWkdnSo"
      },
      "source": [
        "## 2 Input XOR Gate\n",
        "Input: a, b"
      ]
    },
    {
      "cell_type": "code",
      "execution_count": null,
      "metadata": {
        "id": "8Fd__HErdnSo",
        "outputId": "0d9796f1-9028-470d-d220-8fe1124047ff"
      },
      "outputs": [
        {
          "data": {
            "text/plain": [
              "1"
            ]
          },
          "execution_count": 7,
          "metadata": {},
          "output_type": "execute_result"
        }
      ],
      "source": [
        "def xor2(a,b):\n",
        "    return nand2(nand2(a,nand2(a,b)),nand2(b,nand2(a,b)))\n",
        "\n",
        "xor2(1,0)"
      ]
    },
    {
      "cell_type": "markdown",
      "metadata": {
        "id": "GNaTbQJCdnSo"
      },
      "source": [
        "## 2 Input XNOR Gate\n",
        "Input: a, b"
      ]
    },
    {
      "cell_type": "code",
      "execution_count": null,
      "metadata": {
        "id": "ggLKC--ednSo",
        "outputId": "261478af-aa34-4f11-9635-be3c43e25c1e"
      },
      "outputs": [
        {
          "data": {
            "text/plain": [
              "0"
            ]
          },
          "execution_count": 8,
          "metadata": {},
          "output_type": "execute_result"
        }
      ],
      "source": [
        "def xnor2(a,b):\n",
        "    return not1(xor2(a,b))\n",
        "\n",
        "xnor2(1,0)"
      ]
    },
    {
      "cell_type": "markdown",
      "metadata": {
        "id": "fQimYQ1vdnSp"
      },
      "source": [
        "## 2 Input Multiplexer\n",
        "1. Data inputs are given in String, List or Tuple format\n",
        "2. MSB: d[0], LSB: d[1]\n",
        "3. Select line: s"
      ]
    },
    {
      "cell_type": "code",
      "execution_count": null,
      "metadata": {
        "id": "ytqLECondnSp",
        "outputId": "a50387f4-0d55-445a-d466-9137289fce67"
      },
      "outputs": [
        {
          "data": {
            "text/plain": [
              "1"
            ]
          },
          "execution_count": 9,
          "metadata": {},
          "output_type": "execute_result"
        }
      ],
      "source": [
        "def mux2(d,s):\n",
        "    d=list(d)\n",
        "    return nand2(nand2(int(s),int(d[-1])),nand2(not1(int(s)),int(d[-2])))\n",
        "\n",
        "mux2((1,0),0)"
      ]
    },
    {
      "cell_type": "markdown",
      "metadata": {
        "id": "OwgEd2FBdnSp"
      },
      "source": [
        "## 4 Input Multiplexer\n",
        "1. Data inputs are given in String, List or Tuple format\n",
        "2. MSB: d[0], LSB: d[3]\n",
        "3. Select line: s"
      ]
    },
    {
      "cell_type": "code",
      "execution_count": null,
      "metadata": {
        "id": "Q31Goz_sdnSp",
        "outputId": "5e50d0d1-bc98-4b34-85d1-e2542c0c469b"
      },
      "outputs": [
        {
          "data": {
            "text/plain": [
              "1"
            ]
          },
          "execution_count": 10,
          "metadata": {},
          "output_type": "execute_result"
        }
      ],
      "source": [
        "def mux4(d,s):\n",
        "    d=list(d)\n",
        "    d[-1]=mux2([d[-2],d[-1]],s[-1])\n",
        "    d[-2]=mux2([d[-4],d[-3]],s[-1])\n",
        "    return mux2([d[-2],d[-1]],s[-2])\n",
        "\n",
        "mux4((0,1,1,0),(0,1))"
      ]
    },
    {
      "cell_type": "markdown",
      "metadata": {
        "id": "6iXQ4EdOdnSq"
      },
      "source": [
        "## Half Adder Value\n",
        "Input: a, b"
      ]
    },
    {
      "cell_type": "code",
      "execution_count": null,
      "metadata": {
        "id": "hIYJHsladnSq",
        "outputId": "16b91acb-b42a-4e61-dfdd-2dbc7871424c"
      },
      "outputs": [
        {
          "data": {
            "text/plain": [
              "0"
            ]
          },
          "execution_count": 11,
          "metadata": {},
          "output_type": "execute_result"
        }
      ],
      "source": [
        "def haval(a,b):\n",
        "    return xor2(a,b)\n",
        "\n",
        "haval(1,1)"
      ]
    },
    {
      "cell_type": "markdown",
      "metadata": {
        "id": "6EeaL0dSdnSq"
      },
      "source": [
        "## Half Adder Carry\n",
        "Input: a, b"
      ]
    },
    {
      "cell_type": "code",
      "execution_count": null,
      "metadata": {
        "id": "cN8ZlnNodnSq",
        "outputId": "7d885c54-ba04-4537-d5f5-1b40f7a585f5"
      },
      "outputs": [
        {
          "data": {
            "text/plain": [
              "1"
            ]
          },
          "execution_count": 12,
          "metadata": {},
          "output_type": "execute_result"
        }
      ],
      "source": [
        "def hacar(a,b):\n",
        "    return and2(a,b)\n",
        "\n",
        "hacar(1,1)"
      ]
    },
    {
      "cell_type": "markdown",
      "metadata": {
        "id": "XUPSsZp_dnSq"
      },
      "source": [
        "## Full Adder Value\n",
        "Input: a, b, ci"
      ]
    },
    {
      "cell_type": "code",
      "execution_count": null,
      "metadata": {
        "id": "jj5Z4Em0dnSq",
        "outputId": "a684874c-d74a-41a3-c88a-8949a89f30fc"
      },
      "outputs": [
        {
          "data": {
            "text/plain": [
              "1"
            ]
          },
          "execution_count": 13,
          "metadata": {},
          "output_type": "execute_result"
        }
      ],
      "source": [
        "def faval(a,b,ci=0):\n",
        "    return xor2(xor2(a,b),ci)\n",
        "\n",
        "faval(1,1,1)"
      ]
    },
    {
      "cell_type": "markdown",
      "metadata": {
        "id": "BGPHaCKldnSr"
      },
      "source": [
        "## Full Adder Carry\n",
        "Input: a, b, ci"
      ]
    },
    {
      "cell_type": "code",
      "execution_count": null,
      "metadata": {
        "id": "FH3a6GcOdnSr",
        "outputId": "2eaf1071-2034-422a-cb3b-ae0c0a7ca3e7"
      },
      "outputs": [
        {
          "data": {
            "text/plain": [
              "1"
            ]
          },
          "execution_count": 14,
          "metadata": {},
          "output_type": "execute_result"
        }
      ],
      "source": [
        "def facar(a,b,ci=0):\n",
        "    return or2(and2(xor2(a,b),ci),and2(a,b))\n",
        "\n",
        "facar(1,1,1)"
      ]
    },
    {
      "cell_type": "markdown",
      "metadata": {
        "id": "qf6SpjmodnSr"
      },
      "source": [
        "## Express in 4 Bits\n",
        "1. Input is given in string format\n",
        "2. Input: a"
      ]
    },
    {
      "cell_type": "code",
      "execution_count": null,
      "metadata": {
        "id": "mmkBECHUdnSr",
        "outputId": "32cfd268-9cc1-48c4-b3a6-6c524d60d724"
      },
      "outputs": [
        {
          "data": {
            "text/plain": [
              "'1101'"
            ]
          },
          "execution_count": 15,
          "metadata": {},
          "output_type": "execute_result"
        }
      ],
      "source": [
        "def fbexp(a):\n",
        "    if len(a)<4:\n",
        "        if a[0]=='0':\n",
        "            for j in range(0,4-len(a)):\n",
        "                a='0'+a\n",
        "        else:\n",
        "            for j in range(0,4-len(a)):\n",
        "                a='1'+a\n",
        "    elif len(a)>4:\n",
        "        a=a[-4:len(a)]\n",
        "    return a\n",
        "\n",
        "fbexp('101')"
      ]
    },
    {
      "cell_type": "markdown",
      "metadata": {
        "id": "roLjbVQpdnSr"
      },
      "source": [
        "## 4 Bit Adder\n",
        "1. Data inputs are given in string format\n",
        "2. Carry input is given in integer format\n",
        "3. Input: a, b, c"
      ]
    },
    {
      "cell_type": "code",
      "execution_count": null,
      "metadata": {
        "id": "Y5zv1QmqdnSs",
        "outputId": "7344abf9-259e-4f3a-8257-91f5f0bc123e"
      },
      "outputs": [
        {
          "data": {
            "text/plain": [
              "['1100', 1]"
            ]
          },
          "execution_count": 16,
          "metadata": {},
          "output_type": "execute_result"
        }
      ],
      "source": [
        "def fbadd(a,b,c=0):\n",
        "    a=fbexp(a)\n",
        "    b=fbexp(b)\n",
        "    s=''\n",
        "    for i in range(-1,-5,-1):\n",
        "        s=str(faval(int(a[i]),int(b[i]),c))+s\n",
        "        c=facar(int(a[i]),int(b[i]),c)\n",
        "    return [s,c]\n",
        "\n",
        "fbadd('101','11')"
      ]
    },
    {
      "cell_type": "markdown",
      "metadata": {
        "id": "FXFTpACMdnSs"
      },
      "source": [
        "## 4 Bit Adder Value\n",
        "1. Data inputs are given in string format\n",
        "2. Carry input is given in integer format\n",
        "3. Input: a, b, c"
      ]
    },
    {
      "cell_type": "code",
      "execution_count": null,
      "metadata": {
        "id": "6yc7sPmvdnSs",
        "outputId": "cb533b12-c018-47aa-b826-56ac30be13ac"
      },
      "outputs": [
        {
          "data": {
            "text/plain": [
              "'1100'"
            ]
          },
          "execution_count": 17,
          "metadata": {},
          "output_type": "execute_result"
        }
      ],
      "source": [
        "def fbaval(a,b,c=0):\n",
        "    return fbadd(a,b,c)[0]\n",
        "\n",
        "fbaval('101','11')"
      ]
    },
    {
      "cell_type": "markdown",
      "metadata": {
        "id": "7pq124LNdnSs"
      },
      "source": [
        "## 4 Bit Adder Carry\n",
        "1. Data inputs are given in string format\n",
        "2. Carry input is given in integer format\n",
        "3. Input: a, b, c"
      ]
    },
    {
      "cell_type": "code",
      "execution_count": null,
      "metadata": {
        "id": "R9WuI_nldnSs",
        "outputId": "53890051-3bb1-4d88-f991-8e85c2ae7a4b"
      },
      "outputs": [
        {
          "data": {
            "text/plain": [
              "1"
            ]
          },
          "execution_count": 18,
          "metadata": {},
          "output_type": "execute_result"
        }
      ],
      "source": [
        "def fbacar(a,b,c=0):\n",
        "    return fbadd(a,b,c)[1]\n",
        "\n",
        "fbacar('101','11')"
      ]
    },
    {
      "cell_type": "markdown",
      "metadata": {
        "id": "BvDd3jCrdnSt"
      },
      "source": [
        "## S'R' Latch\n",
        "Input: sb, rb, q, qb"
      ]
    },
    {
      "cell_type": "code",
      "execution_count": null,
      "metadata": {
        "id": "UT849j-_dnSt",
        "outputId": "cc96fab5-decc-4959-f676-6580a2965687"
      },
      "outputs": [
        {
          "data": {
            "text/plain": [
              "[0, 1]"
            ]
          },
          "execution_count": 19,
          "metadata": {},
          "output_type": "execute_result"
        }
      ],
      "source": [
        "def latch(sb,rb,q=0,qb=1):\n",
        "    q=nand2(qb,sb)\n",
        "    qb=nand2(q,rb)\n",
        "    return [q,qb]\n",
        "\n",
        "latch(1,0)"
      ]
    },
    {
      "cell_type": "markdown",
      "metadata": {
        "id": "Q-f5NTsHdnS2"
      },
      "source": [
        "## SR Flip Flop\n",
        "Input: s, r, q, qb, clk"
      ]
    },
    {
      "cell_type": "code",
      "execution_count": null,
      "metadata": {
        "id": "Lb90v-nHdnS3",
        "outputId": "24e8ebc4-d4c8-4c1c-b0f8-1d195a09d39d"
      },
      "outputs": [
        {
          "data": {
            "text/plain": [
              "[1, 0]"
            ]
          },
          "execution_count": 20,
          "metadata": {},
          "output_type": "execute_result"
        }
      ],
      "source": [
        "def srflp(s,r,q=0,qb=1,clk=0):\n",
        "    for i in [0,0]:\n",
        "        ss=nand2(s,clk)\n",
        "        rs=nand2(r,clk)\n",
        "        q=latch(ss,rs,q,qb)[0]\n",
        "        qb=latch(ss,rs,q,qb)[1]\n",
        "    return [q,qb]\n",
        "\n",
        "srflp(1,0,clk=1)"
      ]
    },
    {
      "cell_type": "markdown",
      "metadata": {
        "id": "iAIHk_vbdnS3"
      },
      "source": [
        "## Sequencial SR Flip Flop\n",
        "Input: s, r, q, qb, clock, func, etr, printout"
      ]
    },
    {
      "cell_type": "code",
      "execution_count": null,
      "metadata": {
        "id": "-Y9JTgV-dnS3",
        "outputId": "6930e478-9f9f-4a74-a80f-eeb06859853a"
      },
      "outputs": [
        {
          "name": "stdout",
          "output_type": "stream",
          "text": [
            "[0, 1] 0\n",
            "[1, 0] 1\n",
            "[1, 0] 0\n",
            "[1, 0] 1\n"
          ]
        },
        {
          "data": {
            "text/plain": [
              "[1, 0]"
            ]
          },
          "execution_count": 21,
          "metadata": {},
          "output_type": "execute_result"
        }
      ],
      "source": [
        "def sqsrflp(s,r,q=0,qb=1,clock=0,func=srflp,etr=1,printout=0):\n",
        "    val_=[]\n",
        "    valb_=[]\n",
        "    while etr>0:\n",
        "        val_=func(s,r,q,qb,clock)\n",
        "        q=val_[0]\n",
        "        qb=val_[1]\n",
        "        if printout!=0:\n",
        "            print([q,qb],clock)\n",
        "        sleep(1)\n",
        "        clock=not1(clock)\n",
        "        valb_=func(s,r,q,qb,clock)\n",
        "        q=valb_[0]\n",
        "        qb=valb_[1]\n",
        "        if printout!=0:\n",
        "            print([q,qb],clock)\n",
        "        sleep(1)\n",
        "        clock=not1(clock)\n",
        "        etr-=1\n",
        "    return [q,qb]\n",
        "\n",
        "sqsrflp(1,0,etr=2,printout=1)"
      ]
    },
    {
      "cell_type": "markdown",
      "metadata": {
        "id": "9H2QiZUddnS3"
      },
      "source": [
        "## D Filp Flop\n",
        "Input: d, q, qb, clk"
      ]
    },
    {
      "cell_type": "code",
      "execution_count": null,
      "metadata": {
        "id": "Imd9YH2adnS4",
        "outputId": "67d9fcc4-2bac-404b-b81e-5d82ababb91a"
      },
      "outputs": [
        {
          "data": {
            "text/plain": [
              "[1, 0]"
            ]
          },
          "execution_count": 22,
          "metadata": {},
          "output_type": "execute_result"
        }
      ],
      "source": [
        "def dflp(d,q=0,qb=1,clk=0):\n",
        "    val_=srflp(d,not1(d),q,qb,clk)\n",
        "    q=val_[0]\n",
        "    qb=val_[1]\n",
        "    return [q,qb]\n",
        "\n",
        "dflp(1,clk=1)"
      ]
    },
    {
      "cell_type": "markdown",
      "metadata": {
        "id": "GMKXHjhKdnS4"
      },
      "source": [
        "## Sequencial D Flip Flop\n",
        "Input: d, q, qb, clock, func, etr, printout"
      ]
    },
    {
      "cell_type": "code",
      "execution_count": null,
      "metadata": {
        "id": "UwqTHSUbdnS4",
        "outputId": "e74f7e54-32f5-4a3f-8dcd-1ac835394b02"
      },
      "outputs": [
        {
          "name": "stdout",
          "output_type": "stream",
          "text": [
            "[0, 1] 0\n",
            "[1, 0] 1\n",
            "[1, 0] 0\n",
            "[1, 0] 1\n"
          ]
        },
        {
          "data": {
            "text/plain": [
              "[1, 0]"
            ]
          },
          "execution_count": 23,
          "metadata": {},
          "output_type": "execute_result"
        }
      ],
      "source": [
        "def sqdflp(d,q=0,qb=1,clock=0,func=dflp,etr=1,printout=0):\n",
        "    val_=[]\n",
        "    valb_=[]\n",
        "    while etr>0:\n",
        "        val_=func(d,q,qb,clock)\n",
        "        q=val_[0]\n",
        "        qb=val_[1]\n",
        "        if printout!=0:\n",
        "            print([q,qb],clock)\n",
        "        sleep(1)\n",
        "        clock=not1(clock)\n",
        "        valb_=func(d,q,qb,clock)\n",
        "        q=valb_[0]\n",
        "        qb=valb_[1]\n",
        "        if printout!=0:\n",
        "            print([q,qb],clock)\n",
        "        sleep(1)\n",
        "        clock=not1(clock)\n",
        "        etr-=1\n",
        "    return [q,qb]\n",
        "\n",
        "sqdflp(1,etr=2,printout=1)"
      ]
    },
    {
      "cell_type": "markdown",
      "metadata": {
        "id": "H6ASKm2RdnS4"
      },
      "source": [
        "## JK Filp Flop\n",
        "Input: j, k, qs, qsb, clk, qm, qmb"
      ]
    },
    {
      "cell_type": "code",
      "execution_count": null,
      "metadata": {
        "id": "y9D_l_gqdnS4",
        "outputId": "e1906f9c-1aa7-4cfa-8e6b-b14582e81026"
      },
      "outputs": [
        {
          "data": {
            "text/plain": [
              "[0, 1, 1, 0]"
            ]
          },
          "execution_count": 24,
          "metadata": {},
          "output_type": "execute_result"
        }
      ],
      "source": [
        "def jkflp(j,k,qs=0,qsb=1,clk=0,qm=0,qmb=1):\n",
        "    q0=and2(j,qsb)\n",
        "    q0b=and2(k,qs)\n",
        "    qm=srflp(q0,q0b,qm,qmb,clk)[0]\n",
        "    qmb=srflp(q0,q0b,qm,qmb,clk)[1]\n",
        "    qs=srflp(qm,qmb,qs,qsb,not1(clk))[0]\n",
        "    qsb=srflp(qm,qmb,qs,qsb,not1(clk))[1]\n",
        "    return [qs,qsb,qm,qmb]\n",
        "\n",
        "jkflp(1,0,clk=1)"
      ]
    },
    {
      "cell_type": "markdown",
      "metadata": {
        "id": "vuNadmy4dnS4"
      },
      "source": [
        "## Sequencial JK Flip FLop\n",
        "Input: j, k, q, qb, clock, func, etr, printout, qm, qmb"
      ]
    },
    {
      "cell_type": "code",
      "execution_count": null,
      "metadata": {
        "id": "wTh3G6gbdnS5",
        "outputId": "d31a3e2c-f008-4c36-9792-a7a19b6f63ee"
      },
      "outputs": [
        {
          "name": "stdout",
          "output_type": "stream",
          "text": [
            "[0, 1] 0\n",
            "[0, 1] 1\n",
            "[1, 0] 0\n",
            "[1, 0] 1\n",
            "[0, 1] 0\n",
            "[0, 1] 1\n",
            "[1, 0] 0\n",
            "[1, 0] 1\n"
          ]
        },
        {
          "data": {
            "text/plain": [
              "[1, 0]"
            ]
          },
          "execution_count": 25,
          "metadata": {},
          "output_type": "execute_result"
        }
      ],
      "source": [
        "def sqjkflp(j,k,q=0,qb=1,clock=0,func=jkflp,etr=1,printout=0,qm=0,qmb=1):\n",
        "    val_=[]\n",
        "    valb_=[]\n",
        "    while etr>0:\n",
        "        val_=func(j,k,q,qb,clock,qm,qmb)\n",
        "        q=val_[0]\n",
        "        qb=val_[1]\n",
        "        qm=val_[2]\n",
        "        qmb=val_[3]\n",
        "        if printout!=0:\n",
        "            print([q,qb],clock)\n",
        "        sleep(1)\n",
        "        clock=not1(clock)\n",
        "        valb_=func(j,k,q,qb,clock,qm,qmb)\n",
        "        q=valb_[0]\n",
        "        qb=valb_[1]\n",
        "        qm=valb_[2]\n",
        "        qmb=valb_[3]\n",
        "        if printout!=0:\n",
        "            print([q,qb],clock)\n",
        "        sleep(1)\n",
        "        clock=not1(clock)\n",
        "        etr-=1\n",
        "    return [q,qb]\n",
        "\n",
        "sqjkflp(1,1,etr=4,printout=1)"
      ]
    },
    {
      "cell_type": "markdown",
      "metadata": {
        "id": "ouDkAi_ndnS5"
      },
      "source": [
        "## T Flip Flop\n",
        "Input: t, q, qb, clk, qm, qmb"
      ]
    },
    {
      "cell_type": "code",
      "execution_count": null,
      "metadata": {
        "id": "E_f6WOV6dnS5",
        "outputId": "5a76824e-b167-4af9-af4f-65c65f0111a0"
      },
      "outputs": [
        {
          "data": {
            "text/plain": [
              "[0, 1, 1, 0]"
            ]
          },
          "execution_count": 26,
          "metadata": {},
          "output_type": "execute_result"
        }
      ],
      "source": [
        "def tflp(t,q=0,qb=1,clk=0,qm=0,qmb=1):\n",
        "    val_=jkflp(t,t,q,qb,clk,qm,qmb)\n",
        "    q=val_[0]\n",
        "    qb=val_[1]\n",
        "    qm=val_[2]\n",
        "    qmb=val_[3]\n",
        "    return [q,qb,qm,qmb]\n",
        "\n",
        "tflp(1,clk=1)"
      ]
    },
    {
      "cell_type": "markdown",
      "metadata": {
        "id": "JRW6H1CMdnS5"
      },
      "source": [
        "## Sequencial T Flip Flop\n",
        "Input: t, q, qb, clock, func, etr, printout, qm, qmb"
      ]
    },
    {
      "cell_type": "code",
      "execution_count": null,
      "metadata": {
        "id": "nbGOLQHcdnS5",
        "outputId": "c85c063a-b011-4621-99d3-f954f79eb14b"
      },
      "outputs": [
        {
          "name": "stdout",
          "output_type": "stream",
          "text": [
            "[0, 1] 0\n",
            "[0, 1] 1\n",
            "[1, 0] 0\n",
            "[1, 0] 1\n",
            "[0, 1] 0\n",
            "[0, 1] 1\n",
            "[1, 0] 0\n",
            "[1, 0] 1\n"
          ]
        },
        {
          "data": {
            "text/plain": [
              "[1, 0]"
            ]
          },
          "execution_count": 27,
          "metadata": {},
          "output_type": "execute_result"
        }
      ],
      "source": [
        "def sqtflp(t,q=0,qb=1,clock=0,func=tflp,etr=1,printout=0,qm=0,qmb=1):\n",
        "    val_=[]\n",
        "    valb_=[]\n",
        "    while etr>0:\n",
        "        val_=func(t,q,qb,clock,qm,qmb)\n",
        "        q=val_[0]\n",
        "        qb=val_[1]\n",
        "        qm=val_[2]\n",
        "        qmb=val_[3]\n",
        "        if printout!=0:\n",
        "            print([q,qb],clock)\n",
        "        sleep(1)\n",
        "        clock=not1(clock)\n",
        "        valb_=func(t,q,qb,clock,qm,qmb)\n",
        "        q=valb_[0]\n",
        "        qb=valb_[1]\n",
        "        qm=valb_[2]\n",
        "        qmb=valb_[3]\n",
        "        if printout!=0:\n",
        "            print([q,qb],clock)\n",
        "        sleep(1)\n",
        "        clock=not1(clock)\n",
        "        etr-=1\n",
        "    return [q,qb]\n",
        "\n",
        "sqtflp(1,etr=4,printout=1)"
      ]
    }
  ],
  "metadata": {
    "kernelspec": {
      "display_name": "Python 3 (ipykernel)",
      "language": "python",
      "name": "python3"
    },
    "language_info": {
      "codemirror_mode": {
        "name": "ipython",
        "version": 3
      },
      "file_extension": ".py",
      "mimetype": "text/x-python",
      "name": "python",
      "nbconvert_exporter": "python",
      "pygments_lexer": "ipython3",
      "version": "3.12.4"
    },
    "colab": {
      "provenance": [],
      "include_colab_link": true
    }
  },
  "nbformat": 4,
  "nbformat_minor": 0
}